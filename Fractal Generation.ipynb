{
 "cells": [
  {
   "cell_type": "code",
   "execution_count": null,
   "id": "849f8f1d",
   "metadata": {},
   "outputs": [],
   "source": [
    "import turtle"
   ]
  },
  {
   "cell_type": "markdown",
   "id": "dba4b0b0",
   "metadata": {},
   "source": [
    "# Drawing a fractal tree\n",
    "\n",
    "![](fractal-tree.png)"
   ]
  },
  {
   "cell_type": "code",
   "execution_count": null,
   "id": "6b869457",
   "metadata": {},
   "outputs": [],
   "source": [
    "MINIMUM_BRANCH_LENGTH = 5\n",
    "\n",
    "def build_tree (t, branch_length, shorten_by, angle):\n",
    "    if branch_length > MINIMUM_BRANCH_LENGTH:\n",
    "        t.forward(branch_length)\n",
    "        new_length = branch_length - shorten_by\n",
    "        t.left(angle)\n",
    "        build_tree(t, new_length, shorten_by, angle)\n",
    "        t.right(angle * 2)\n",
    "        build_tree(t, new_length, shorten_by, angle)\n",
    "        t.left(angle)\n",
    "        t.backward(branch_length)\n",
    "\n",
    "tree = turtle.Turtle()\n",
    "tree.hideturtle()\n",
    "tree.setheading(90)\n",
    "tree.color('green')\n",
    "\n",
    "build_tree(tree, 50, 5, 30)\n",
    "turtle.mainloop()"
   ]
  },
  {
   "cell_type": "markdown",
   "id": "849ee2af",
   "metadata": {},
   "source": [
    "# Drawing a Koch snowflake\n",
    "\n",
    "![](koch-snowflake.png)"
   ]
  },
  {
   "cell_type": "code",
   "execution_count": null,
   "id": "50e9cb85",
   "metadata": {},
   "outputs": [],
   "source": [
    "def koch_curve(t, iterations, length, shortening_factor, angle):\n",
    "  if iterations == 0:\n",
    "    t.forward(length)\n",
    "  else:\n",
    "    iterations = iterations - 1\n",
    "    length = length / shortening_factor\n",
    "    koch_curve(t, iterations, length, shortening_factor, angle)\n",
    "    t.left(angle)\n",
    "    koch_curve(t, iterations, length, shortening_factor, angle)\n",
    "    t.right(angle * 2)\n",
    "    koch_curve(t, iterations, length, shortening_factor, angle)\n",
    "    t.left(angle)\n",
    "    koch_curve(t, iterations, length, shortening_factor, angle)\n",
    "\n",
    "t = turtle.Turtle()\n",
    "t.hideturtle()\n",
    "\n",
    "for i in range(3):\n",
    "  koch_curve(t, 4, 200, 3, 60)\n",
    "  t.right(120)\n",
    "    \n",
    "turtle.mainloop()"
   ]
  },
  {
   "cell_type": "code",
   "execution_count": null,
   "id": "1531e88e",
   "metadata": {},
   "outputs": [],
   "source": []
  }
 ],
 "metadata": {
  "kernelspec": {
   "display_name": "Python 3 (ipykernel)",
   "language": "python",
   "name": "python3"
  },
  "language_info": {
   "codemirror_mode": {
    "name": "ipython",
    "version": 3
   },
   "file_extension": ".py",
   "mimetype": "text/x-python",
   "name": "python",
   "nbconvert_exporter": "python",
   "pygments_lexer": "ipython3",
   "version": "3.9.7"
  }
 },
 "nbformat": 4,
 "nbformat_minor": 5
}
